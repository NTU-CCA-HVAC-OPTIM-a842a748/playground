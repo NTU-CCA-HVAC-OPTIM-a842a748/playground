{
 "cells": [
  {
   "cell_type": "code",
   "execution_count": 4,
   "id": "60e42de6-0a05-4547-b10a-0a0f2ce60155",
   "metadata": {},
   "outputs": [],
   "source": [
    "!{__import__('sys').executable} -m pip install --quiet openstudio"
   ]
  },
  {
   "cell_type": "code",
   "execution_count": 1,
   "id": "b0bc0b24-e6e4-4936-a42f-c3d3942b5e16",
   "metadata": {},
   "outputs": [],
   "source": [
    "import openstudio"
   ]
  },
  {
   "cell_type": "code",
   "execution_count": 2,
   "id": "1bc182ae-f353-48f0-8be5-6bfd1113241d",
   "metadata": {},
   "outputs": [],
   "source": [
    "model = openstudio.model.Model.load('data/openstudio/model/college-tampa-fl.osm').get()"
   ]
  },
  {
   "cell_type": "code",
   "execution_count": 5,
   "id": "218621e9-49b7-424a-9f9a-0cf0adfd4562",
   "metadata": {},
   "outputs": [
    {
     "data": {
      "text/plain": [
       "()"
      ]
     },
     "execution_count": 5,
     "metadata": {},
     "output_type": "execute_result"
    }
   ],
   "source": [
    "model.getModelObjects()"
   ]
  },
  {
   "cell_type": "code",
   "execution_count": 3,
   "id": "6eba201e-fe2f-4b1f-aa06-fe9cf99f016d",
   "metadata": {},
   "outputs": [
    {
     "data": {
      "text/plain": [
       "()"
      ]
     },
     "execution_count": 3,
     "metadata": {},
     "output_type": "execute_result"
    }
   ],
   "source": [
    "model.getOutputVariables()"
   ]
  },
  {
   "cell_type": "code",
   "execution_count": 4,
   "id": "9e20b801-441e-4f72-97ad-e4dc5418832c",
   "metadata": {},
   "outputs": [
    {
     "data": {
      "text/plain": [
       "<openstudio.openstudiomodelsimulation.OptionalRunPeriod; proxy of <Swig Object of type 'boost::optional< openstudio::model::RunPeriod > *' at 0x7fcf42fbd9b0> >"
      ]
     },
     "execution_count": 4,
     "metadata": {},
     "output_type": "execute_result"
    }
   ],
   "source": [
    "model.runPeriod()"
   ]
  },
  {
   "cell_type": "code",
   "execution_count": 5,
   "id": "a8374322-b2c9-4643-9761-8083502e4da1",
   "metadata": {},
   "outputs": [
    {
     "data": {
      "text/plain": [
       "<module 'openstudio.openstudiomodel' from '/home/edu/.local/lib/python3.10/site-packages/openstudio/openstudiomodel.py'>"
      ]
     },
     "execution_count": 5,
     "metadata": {},
     "output_type": "execute_result"
    }
   ],
   "source": [
    "openstudio.energyplus.openstudiomodel"
   ]
  },
  {
   "cell_type": "code",
   "execution_count": 7,
   "id": "d030d596-3e60-4c00-9ddb-77a5da869e0c",
   "metadata": {},
   "outputs": [
    {
     "data": {
      "text/plain": [
       "openstudio.openstudioutilitiesidf.Workspace"
      ]
     },
     "execution_count": 7,
     "metadata": {},
     "output_type": "execute_result"
    }
   ],
   "source": [
    "openstudio.Workspace"
   ]
  },
  {
   "cell_type": "code",
   "execution_count": null,
   "id": "c9ddb46a-796e-4701-a8de-858d528e6142",
   "metadata": {},
   "outputs": [],
   "source": [
    "\n",
    "class _openstudio_cli:\n",
    "    @property\n",
    "    def path(self):\n",
    "        return openstudio.getOpenStudioCLI() or 'openstudio'\n",
    "        \n",
    "    pass\n"
   ]
  },
  {
   "cell_type": "code",
   "execution_count": 2,
   "id": "e2e11821-46f6-4eb4-8178-8f9dd30e058f",
   "metadata": {},
   "outputs": [
    {
     "name": "stdout",
     "output_type": "stream",
     "text": [
      "['__class__', '__delattr__', '__dict__', '__dir__', '__div__', '__doc__', '__eq__', '__format__', '__ge__', '__getattribute__', '__gt__', '__hash__', '__idiv__', '__init__', '__init_subclass__', '__itruediv__', '__le__', '__lt__', '__module__', '__ne__', '__new__', '__reduce__', '__reduce_ex__', '__repr__', '__setattr__', '__sizeof__', '__str__', '__subclasshook__', '__swig_destroy__', '__weakref__', 'clear', 'empty', 'extension', 'filename', 'has_filename', 'has_parent_path', 'has_relative_path', 'has_root_directory', 'has_root_name', 'has_root_path', 'is_complete', 'parent_path', 'relative_path', 'remove_filename', 'replace_extension', 'root_path', 'stem', 'string', 'swap', 'this', 'thisown']\n"
     ]
    },
    {
     "data": {
      "text/plain": [
       "<openstudio.openstudioutilitiescore.path; proxy of <Swig Object of type 'openstudio::path *' at 0x7fc1ccd401b0> >"
      ]
     },
     "execution_count": 2,
     "metadata": {},
     "output_type": "execute_result"
    }
   ],
   "source": [
    "p = (openstudio.getOpenStudioCLI())\n",
    "print(dir(p))\n",
    "dir(p.string())\n",
    "p"
   ]
  },
  {
   "cell_type": "code",
   "execution_count": 3,
   "id": "30559c86-cf1e-4e6d-8d88-382cd2265b2b",
   "metadata": {},
   "outputs": [
    {
     "data": {
      "text/plain": [
       "''"
      ]
     },
     "execution_count": 3,
     "metadata": {},
     "output_type": "execute_result"
    }
   ],
   "source": [
    "openstudio.toString(p)"
   ]
  },
  {
   "cell_type": "code",
   "execution_count": 5,
   "id": "08ab7924-907e-4165-8951-25158831fd7d",
   "metadata": {},
   "outputs": [
    {
     "data": {
      "text/plain": [
       "'openstudio'"
      ]
     },
     "execution_count": 5,
     "metadata": {},
     "output_type": "execute_result"
    }
   ],
   "source": [
    "str(p) or 'openstudio'"
   ]
  },
  {
   "cell_type": "code",
   "execution_count": 15,
   "id": "8bd47175-6012-4630-83c8-18ba50ed31d2",
   "metadata": {},
   "outputs": [
    {
     "name": "stdout",
     "output_type": "stream",
     "text": [
      "\n",
      "################################################################################\n",
      "#                        Starting state initialization                         #\n",
      "################################################################################\n",
      "Started\n",
      "###################### Returned from state initialization ######################\n",
      "\n",
      "################################################################################\n",
      "#                          Starting state os_measures                          #\n",
      "################################################################################\n",
      "####################### Returned from state os_measures ########################\n",
      "\n",
      "################################################################################\n",
      "#                          Starting state translator                           #\n",
      "################################################################################\n",
      "######################## Returned from state translator ########################\n",
      "\n",
      "################################################################################\n",
      "#                          Starting state ep_measures                          #\n",
      "################################################################################\n",
      "####################### Returned from state ep_measures ########################\n",
      "\n",
      "################################################################################\n",
      "#                          Starting state preprocess                           #\n",
      "################################################################################\n",
      "######################## Returned from state preprocess ########################\n",
      "\n",
      "################################################################################\n",
      "#                          Starting state simulation                           #\n",
      "################################################################################\n",
      "EnergyPlus Starting\n",
      "EnergyPlus, Version 23.1.0-87ed9199d4, YMD=2023.09.09 10:58\n",
      "Initializing Response Factors\n",
      "Calculating CTFs for \"INTERIORFURNISHINGS\"\n",
      "Calculating CTFs for \"TYPICAL IEAD ROOF - HIGHLY REFLECTIVE R-25.64\"\n",
      "Calculating CTFs for \"TYPICAL INSULATED STEEL FRAMED EXTERIOR WALL R-11.9\"\n",
      "Calculating CTFs for \"TYPICAL INTERIOR CEILING\"\n",
      "Calculating CTFs for \"FOUNDATION F 126 PERIM 0 AREA 1916\"\n",
      "Calculating CTFs for \"FOUNDATION F 126 PERIM 0 AREA 19417\"\n",
      "Calculating CTFs for \"FOUNDATION F 126 PERIM 0 AREA 4599\"\n",
      "Calculating CTFs for \"FOUNDATION F 126 PERIM 0 AREA 818\"\n",
      "Calculating CTFs for \"FOUNDATION F 126 PERIM 0 AREA 996\"\n",
      "Calculating CTFs for \"FOUNDATION F 126 PERIM 229 AREA 1254\"\n",
      "Calculating CTFs for \"FOUNDATION F 126 PERIM 244 AREA 1189\"\n",
      "Calculating CTFs for \"FOUNDATION F 126 PERIM 2652 AREA 1505\"\n",
      "Calculating CTFs for \"FOUNDATION F 126 PERIM 2652 AREA 17977\"\n",
      "Calculating CTFs for \"FOUNDATION F 126 PERIM 305 AREA 12217\"\n",
      "Calculating CTFs for \"FOUNDATION F 126 PERIM 305 AREA 1858\"\n",
      "Calculating CTFs for \"FOUNDATION F 126 PERIM 3307 AREA 27035\"\n",
      "Calculating CTFs for \"FOUNDATION F 126 PERIM 335 AREA 1226\"\n",
      "Calculating CTFs for \"FOUNDATION F 126 PERIM 914 AREA 7525\"\n",
      "Initializing Window Optical Properties\n",
      "Initializing Solar Calculations\n",
      "Allocate Solar Module Arrays\n",
      "Initializing Zone and Enclosure Report Variables\n",
      "Initializing Surface (Shading) Report Variables\n",
      "Determining Shadowing Combinations\n",
      "Computing Window Shade Absorption Factors\n",
      "Proceeding with Initializing Solar Calculations\n",
      "Initializing Surfaces\n",
      "Initializing Outdoor environment for Surfaces\n",
      "Setting up Surface Reporting Variables\n",
      "Initializing Temperature and Flux Histories\n",
      "Initializing Window Shading\n",
      "Computing Interior Absorption Factors\n",
      "Computing Interior Diffuse Solar Absorption Factors\n",
      "Initializing Solar Heat Gains\n",
      "Initializing Internal Heat Gains\n",
      "Initializing Interior Solar Distribution\n",
      "Initializing Interior Convection Coefficients\n",
      "Gathering Information for Predefined Reporting\n",
      "Completed Initializing Surface Heat Balance\n",
      "Calculate Outside Surface Heat Balance\n",
      "Calculate Inside Surface Heat Balance\n",
      "Calculate Air Heat Balance\n",
      "Initializing HVAC\n",
      "Warming up\n",
      "Calculating Detailed Daylighting Factors, Start Date=08/21\n",
      "Warming up\n",
      "Warming up\n",
      "Warming up\n",
      "Warming up\n",
      "Warming up\n",
      "Performing Zone Sizing Simulation\n",
      "...for Sizing Period: #1 TAMPA-MACDILL.AFB_FL_USA ANN CLG .4% CONDNS DB=>MWB\n",
      "Warming up\n",
      "Calculating Detailed Daylighting Factors, Start Date=01/21\n",
      "Warming up\n",
      "Warming up\n",
      "Warming up\n",
      "Warming up\n",
      "Warming up\n",
      "Warming up\n",
      "Warming up\n",
      "Performing Zone Sizing Simulation\n",
      "...for Sizing Period: #2 TAMPA-MACDILL.AFB_FL_USA ANN HTG 99.6% CONDNS DB\n",
      "Calculating System sizing\n",
      "...for Sizing Period: #1 TAMPA-MACDILL.AFB_FL_USA ANN CLG .4% CONDNS DB=>MWB\n",
      "Calculating System sizing\n",
      "...for Sizing Period: #2 TAMPA-MACDILL.AFB_FL_USA ANN HTG 99.6% CONDNS DB\n",
      "Adjusting Air System Sizing\n",
      "Adjusting Standard 62.1 Ventilation Sizing\n",
      "Initializing Simulation\n",
      "Reporting Surfaces\n",
      "Beginning HVAC Sizing Simulation\n",
      "Initializing New Environment Parameters, HVAC Sizing Simulation\n",
      "Warming up {1}\n",
      "Calculating Detailed Daylighting Factors, Start Date=08/21\n",
      "Warming up {2}\n",
      "Warming up {3}\n",
      "Warming up {4}\n",
      "Warming up {5}\n",
      "Warming up {6}\n",
      "Starting HVAC Sizing Simulation at 08/21 for TAMPA-MACDILL.AFB_FL_USA ANN CLG .4% CONDNS DB=>MWB HVAC Sizing Pass 1\n",
      "Initializing New Environment Parameters, HVAC Sizing Simulation\n",
      "Warming up {1}\n",
      "Calculating Detailed Daylighting Factors, Start Date=01/21\n",
      "Warming up {2}\n",
      "Warming up {3}\n",
      "Warming up {4}\n",
      "Warming up {5}\n",
      "Warming up {6}\n",
      "Warming up {7}\n",
      "Warming up {8}\n",
      "Warming up {9}\n",
      "Warming up {10}\n",
      "Warming up {11}\n",
      "Warming up {12}\n",
      "Warming up {13}\n",
      "Starting HVAC Sizing Simulation at 01/21 for TAMPA-MACDILL.AFB_FL_USA ANN HTG 99.6% CONDNS DB HVAC Sizing Pass 1\n",
      "Beginning Primary Simulation\n",
      "Initializing New Environment Parameters\n",
      "Warming up {1}\n",
      "Calculating Detailed Daylighting Factors, Start Date=01/01\n",
      "Warming up {2}\n",
      "Warming up {3}\n",
      "Warming up {4}\n",
      "Warming up {5}\n",
      "Warming up {6}\n",
      "Warming up {7}\n",
      "Warming up {8}\n",
      "Warming up {9}\n",
      "Warming up {10}\n",
      "Warming up {11}\n",
      "Warming up {12}\n",
      "Warming up {13}\n",
      "Starting Simulation at 01/01/2006 for RUN PERIOD 1\n",
      "Updating Shadowing Calculations, Start Date=01/21/2006\n",
      "Updating Detailed Daylighting Factors, Start Date=01/21\n",
      "Continuing Simulation at 01/21/2006 for RUN PERIOD 1\n",
      "Updating Shadowing Calculations, Start Date=02/10/2006\n",
      "Updating Detailed Daylighting Factors, Start Date=02/10\n",
      "Continuing Simulation at 02/10/2006 for RUN PERIOD 1\n",
      "Updating Shadowing Calculations, Start Date=03/02/2006\n",
      "Updating Detailed Daylighting Factors, Start Date=03/02\n",
      "Continuing Simulation at 03/02/2006 for RUN PERIOD 1\n",
      "Updating Shadowing Calculations, Start Date=03/22/2006\n",
      "Updating Detailed Daylighting Factors, Start Date=03/22\n",
      "Continuing Simulation at 03/22/2006 for RUN PERIOD 1\n",
      "Updating Shadowing Calculations, Start Date=04/11/2006\n",
      "Updating Detailed Daylighting Factors, Start Date=04/11\n",
      "Continuing Simulation at 04/11/2006 for RUN PERIOD 1\n",
      "Updating Shadowing Calculations, Start Date=05/01/2006\n",
      "Updating Detailed Daylighting Factors, Start Date=05/01\n",
      "Continuing Simulation at 05/01/2006 for RUN PERIOD 1\n",
      "Updating Shadowing Calculations, Start Date=05/21/2006\n",
      "Updating Detailed Daylighting Factors, Start Date=05/21\n",
      "Continuing Simulation at 05/21/2006 for RUN PERIOD 1\n",
      "Updating Shadowing Calculations, Start Date=06/10/2006\n",
      "Updating Detailed Daylighting Factors, Start Date=06/10\n",
      "Continuing Simulation at 06/10/2006 for RUN PERIOD 1\n",
      "Updating Shadowing Calculations, Start Date=06/30/2006\n",
      "Updating Detailed Daylighting Factors, Start Date=06/30\n",
      "Continuing Simulation at 06/30/2006 for RUN PERIOD 1\n",
      "Updating Shadowing Calculations, Start Date=07/20/2006\n",
      "Updating Detailed Daylighting Factors, Start Date=07/20\n",
      "Continuing Simulation at 07/20/2006 for RUN PERIOD 1\n",
      "Updating Shadowing Calculations, Start Date=08/09/2006\n",
      "Updating Detailed Daylighting Factors, Start Date=08/09\n",
      "Continuing Simulation at 08/09/2006 for RUN PERIOD 1\n",
      "Updating Shadowing Calculations, Start Date=08/29/2006\n",
      "Updating Detailed Daylighting Factors, Start Date=08/29\n",
      "Continuing Simulation at 08/29/2006 for RUN PERIOD 1\n",
      "Updating Shadowing Calculations, Start Date=09/18/2006\n",
      "Updating Detailed Daylighting Factors, Start Date=09/18\n",
      "Continuing Simulation at 09/18/2006 for RUN PERIOD 1\n",
      "Updating Shadowing Calculations, Start Date=10/08/2006\n",
      "Updating Detailed Daylighting Factors, Start Date=10/08\n",
      "Continuing Simulation at 10/08/2006 for RUN PERIOD 1\n",
      "Updating Shadowing Calculations, Start Date=10/28/2006\n",
      "Updating Detailed Daylighting Factors, Start Date=10/28\n",
      "Continuing Simulation at 10/28/2006 for RUN PERIOD 1\n",
      "Updating Shadowing Calculations, Start Date=11/17/2006\n",
      "Updating Detailed Daylighting Factors, Start Date=11/17\n",
      "Continuing Simulation at 11/17/2006 for RUN PERIOD 1\n",
      "Updating Shadowing Calculations, Start Date=12/07/2006\n",
      "Updating Detailed Daylighting Factors, Start Date=12/07\n",
      "Continuing Simulation at 12/07/2006 for RUN PERIOD 1\n",
      "Updating Shadowing Calculations, Start Date=12/27/2006\n",
      "Updating Detailed Daylighting Factors, Start Date=12/27\n",
      "Continuing Simulation at 12/27/2006 for RUN PERIOD 1\n",
      "Writing tabular output file results using HTML format.\n",
      "Computing Life Cycle Costs and Reporting\n",
      "Writing final SQL reports\n",
      "EnergyPlus Run Time=00hr 06min  0.31sec\n",
      "EnergyPlus Completed Successfully.\n",
      "######################## Returned from state simulation ########################\n",
      "\n",
      "################################################################################\n",
      "#                      Starting state reporting_measures                       #\n",
      "################################################################################\n",
      "Applying OpenStudioResults\n",
      "Result: Success\n",
      "Initial Condition: Gathering data from EnergyPlus SQL file and OSM model. Will report in IP Units\n",
      "Final Condition: Generated report with 22 sections to ./report.html.\n",
      "Applied OpenStudioResults\n",
      "#################### Returned from state reporting_measures ####################\n",
      "\n",
      "################################################################################\n",
      "#                          Starting state postprocess                          #\n",
      "################################################################################\n",
      "####################### Returned from state postprocess ########################\n"
     ]
    }
   ],
   "source": [
    "!cd build; openstudio run --show-stdout --style-stdout --workflow ../data/openstudio/osproject-college/college-tampa-fl/workflow.osw"
   ]
  },
  {
   "cell_type": "code",
   "execution_count": null,
   "id": "e5c2681f-aa79-4b19-942b-e06e0534aecb",
   "metadata": {},
   "outputs": [],
   "source": []
  }
 ],
 "metadata": {
  "kernelspec": {
   "display_name": "Python 3 (ipykernel)",
   "language": "python",
   "name": "python3"
  },
  "language_info": {
   "codemirror_mode": {
    "name": "ipython",
    "version": 3
   },
   "file_extension": ".py",
   "mimetype": "text/x-python",
   "name": "python",
   "nbconvert_exporter": "python",
   "pygments_lexer": "ipython3",
   "version": "3.10.10"
  }
 },
 "nbformat": 4,
 "nbformat_minor": 5
}
