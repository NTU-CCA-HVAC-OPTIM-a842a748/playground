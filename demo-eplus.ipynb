{
 "cells": [
  {
   "cell_type": "code",
   "execution_count": 1,
   "id": "60e42de6-0a05-4547-b10a-0a0f2ce60155",
   "metadata": {},
   "outputs": [],
   "source": [
    "# TODO\n",
    "#!{__import__('sys').executable} -m pip install --quiet openstudio"
   ]
  },
  {
   "cell_type": "code",
   "execution_count": 2,
   "id": "f4196466-bc25-4129-a2e6-dc4ef75d7271",
   "metadata": {},
   "outputs": [],
   "source": [
    "import contextlib\n",
    "import builtins\n",
    "\n",
    "@contextlib.contextmanager\n",
    "def temporary_attr(o, name: str):\n",
    "    a = builtins.getattr(o, name)\n",
    "    try: yield\n",
    "    finally: builtins.setattr(o, name, a)\n",
    "\n",
    "import os\n",
    "import sys\n",
    "\n",
    "@contextlib.contextmanager\n",
    "def temporary_search_path(*paths):\n",
    "    with temporary_attr(sys, 'path'):\n",
    "        setattr(sys, 'path', [os.path.expanduser(p) for p in paths])\n",
    "        try: yield\n",
    "        finally: pass"
   ]
  },
  {
   "cell_type": "code",
   "execution_count": 3,
   "id": "565d6c87-3740-4569-adc8-d9bd0b8724c1",
   "metadata": {},
   "outputs": [],
   "source": [
    "pyenergyplus_path = '~/.local/EnergyPlus-23-1-0'\n",
    "with temporary_search_path(pyenergyplus_path):\n",
    "    import pyenergyplus as eplus\n",
    "    import pyenergyplus.api"
   ]
  },
  {
   "cell_type": "code",
   "execution_count": 4,
   "id": "6714fb3e-167c-43e3-9c69-c0914f692029",
   "metadata": {},
   "outputs": [
    {
     "name": "stdout",
     "output_type": "stream",
     "text": [
      "\n",
      "PythonLinkage: Linked to Python Version: \"3.10.10 | packaged by conda-forge | (main, Mar 24 2023, 20:08:06) [GCC 11.3.0]\"\n",
      "Built on Platform: Ubuntu22.04_x86_64\n",
      "Usage: energyplus [options] [input-file]\n",
      "Options:\n",
      "  -a, --annual                 Force annual simulation\n",
      "  -c, --convert                Output IDF->epJSON or epJSON->IDF, dependent on\n",
      "                               input file type\n",
      "  -D, --design-day             Force design-day-only simulation\n",
      "  -d, --output-directory ARG   Output directory path (default: current\n",
      "                               directory)\n",
      "  -h, --help                   Display help information\n",
      "  -i, --idd ARG                Input data dictionary path (default: Energy+.idd\n",
      "                               in executable directory)\n",
      "  -j, --jobs ARG               Multi-thread with N threads; 1 thread with no\n",
      "                               arg. (Currently only for G-Function generation)\n",
      "  -m, --epmacro                Run EPMacro prior to simulation\n",
      "  -p, --output-prefix ARG      Prefix for output file names (default: eplus)\n",
      "  -r, --readvars               Run ReadVarsESO after simulation\n",
      "  -s, --output-suffix ARG      Suffix style for output file names (default: L)\n",
      "                                  L: Legacy (e.g., eplustbl.csv)\n",
      "                                  C: Capital (e.g., eplusTable.csv)\n",
      "                                  D: Dash (e.g., eplus-table.csv)\n",
      "  -v, --version                Display version information\n",
      "  -w, --weather ARG            Weather file path (default: in.epw in current\n",
      "                               directory)\n",
      "  -x, --expandobjects          Run ExpandObjects prior to simulation\n",
      "--convert-only                 Only convert IDF->epJSON or epJSON->IDF,\n",
      "                               dependent on input file type. No simulation\n",
      "Example: energyplus -w weather.epw -r input.idf\n"
     ]
    }
   ],
   "source": [
    "class EnergyPlusEMS:\n",
    "    _ep_api = eplus.api.EnergyPlusAPI()\n",
    "\n",
    "    def __init__(self):\n",
    "        pass\n",
    "\n",
    "    def __enter__(self):\n",
    "        self._ep_state = self._ep_api.state_manager.new_state()\n",
    "        return self\n",
    "\n",
    "    def __exit__(self, *_exc_args):\n",
    "        if getattr(self, '_ep_state', None) is not None:\n",
    "            self._ep_api.state_manager.delete_state(self._ep_state)\n",
    "\n",
    "    def _exec(self, *args):\n",
    "        return self._ep_api.runtime.run_energyplus(\n",
    "            self._ep_state,\n",
    "            command_line_args=args\n",
    "        )\n",
    "    \n",
    "with EnergyPlusEMS() as ep_ems:\n",
    "    ep_ems._exec('--help')"
   ]
  },
  {
   "cell_type": "code",
   "execution_count": null,
   "id": "6e0c038b-bac6-4661-a818-1aece9b5f579",
   "metadata": {},
   "outputs": [],
   "source": []
  }
 ],
 "metadata": {
  "kernelspec": {
   "display_name": "Python 3 (ipykernel)",
   "language": "python",
   "name": "python3"
  },
  "language_info": {
   "codemirror_mode": {
    "name": "ipython",
    "version": 3
   },
   "file_extension": ".py",
   "mimetype": "text/x-python",
   "name": "python",
   "nbconvert_exporter": "python",
   "pygments_lexer": "ipython3",
   "version": "3.10.10"
  }
 },
 "nbformat": 4,
 "nbformat_minor": 5
}
