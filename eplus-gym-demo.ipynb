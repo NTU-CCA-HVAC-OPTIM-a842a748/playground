{
 "cells": [
  {
   "cell_type": "code",
   "execution_count": 1,
   "id": "60e42de6-0a05-4547-b10a-0a0f2ce60155",
   "metadata": {},
   "outputs": [
    {
     "name": "stdout",
     "output_type": "stream",
     "text": [
      "Defaulting to user installation because normal site-packages is not writeable\n",
      "Collecting openstudio\n",
      "  Obtaining dependency information for openstudio from https://files.pythonhosted.org/packages/25/ea/8f938215a3cff7ecec11ce633ebeed298e78f63f3c36647d672f8fd9cb2c/openstudio-3.6.1-py3-none-manylinux1_x86_64.whl.metadata\n",
      "  Downloading openstudio-3.6.1-py3-none-manylinux1_x86_64.whl.metadata (1.9 kB)\n",
      "Downloading openstudio-3.6.1-py3-none-manylinux1_x86_64.whl (72.1 MB)\n",
      "\u001b[2K   \u001b[90m━━━━━━━━━━━━━━━━━━━━━━━━━━━━━━━━━━━━━━━━\u001b[0m \u001b[32m72.1/72.1 MB\u001b[0m \u001b[31m3.5 MB/s\u001b[0m eta \u001b[36m0:00:00\u001b[0m00:01\u001b[0m00:01\u001b[0mm\n",
      "\u001b[?25hInstalling collected packages: openstudio\n",
      "Successfully installed openstudio-3.6.1\n"
     ]
    }
   ],
   "source": [
    "!{__import__('sys').executable} -m pip install openstudio"
   ]
  },
  {
   "cell_type": "code",
   "execution_count": 1,
   "id": "b0bc0b24-e6e4-4936-a42f-c3d3942b5e16",
   "metadata": {},
   "outputs": [],
   "source": [
    "import openstudio"
   ]
  },
  {
   "cell_type": "code",
   "execution_count": 2,
   "id": "1bc182ae-f353-48f0-8be5-6bfd1113241d",
   "metadata": {},
   "outputs": [
    {
     "data": {
      "text/plain": [
       "<module 'openstudio' from '/home/edu/.local/lib/python3.10/site-packages/openstudio/__init__.py'>"
      ]
     },
     "execution_count": 2,
     "metadata": {},
     "output_type": "execute_result"
    }
   ],
   "source": [
    "openstudio"
   ]
  },
  {
   "cell_type": "code",
   "execution_count": null,
   "id": "6eba201e-fe2f-4b1f-aa06-fe9cf99f016d",
   "metadata": {},
   "outputs": [],
   "source": []
  }
 ],
 "metadata": {
  "kernelspec": {
   "display_name": "Python 3 (ipykernel)",
   "language": "python",
   "name": "python3"
  },
  "language_info": {
   "codemirror_mode": {
    "name": "ipython",
    "version": 3
   },
   "file_extension": ".py",
   "mimetype": "text/x-python",
   "name": "python",
   "nbconvert_exporter": "python",
   "pygments_lexer": "ipython3",
   "version": "3.10.10"
  }
 },
 "nbformat": 4,
 "nbformat_minor": 5
}
